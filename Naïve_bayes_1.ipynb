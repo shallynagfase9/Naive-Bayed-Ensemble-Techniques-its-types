{
  "nbformat": 4,
  "nbformat_minor": 0,
  "metadata": {
    "colab": {
      "provenance": [],
      "authorship_tag": "ABX9TyO5XNclQVOKoM2nKlA831do",
      "include_colab_link": true
    },
    "kernelspec": {
      "name": "python3",
      "display_name": "Python 3"
    },
    "language_info": {
      "name": "python"
    }
  },
  "cells": [
    {
      "cell_type": "markdown",
      "metadata": {
        "id": "view-in-github",
        "colab_type": "text"
      },
      "source": [
        "<a href=\"https://colab.research.google.com/github/shallynagfase9/Naive-Bayes-Ensemble-Techniques-its-types/blob/main/Na%C3%AFve_bayes_1.ipynb\" target=\"_parent\"><img src=\"https://colab.research.google.com/assets/colab-badge.svg\" alt=\"Open In Colab\"/></a>"
      ]
    },
    {
      "cell_type": "markdown",
      "source": [
        "Q1. What is Bayes' theorem?"
      ],
      "metadata": {
        "id": "Ndh4_dDZJXBM"
      }
    },
    {
      "cell_type": "code",
      "source": [
        "\"\"\"\n",
        "Bayes' theorem provides a way to update the probability estimate for a hypothesis as more evidence or information becomes available.\n",
        "It is widely used in various fields such as statistics, machine learning, medicine, and finance for tasks involving inference and decision-making under uncertainty.\n",
        "\n",
        "\"\"\""
      ],
      "metadata": {
        "id": "FYYN2_NyJY3s"
      },
      "execution_count": null,
      "outputs": []
    },
    {
      "cell_type": "markdown",
      "source": [
        "Q2. What is the formula for Bayes' theorem?"
      ],
      "metadata": {
        "id": "oE4IzgNmJnrc"
      }
    },
    {
      "cell_type": "code",
      "source": [
        "\"\"\"\n",
        "\n",
        "P(A∣B) = P(B∣A).P(A)/P(B)\n",
        "​\n",
        "\"\"\"\n"
      ],
      "metadata": {
        "id": "lj8CfYExJpOT"
      },
      "execution_count": null,
      "outputs": []
    },
    {
      "cell_type": "markdown",
      "source": [
        "Q3. How is Bayes' theorem used in practice?"
      ],
      "metadata": {
        "id": "8bbFfbw7J9Rw"
      }
    },
    {
      "cell_type": "code",
      "source": [
        "\"\"\"\n",
        "Bayes' theorem is used in a variety of practical applications across different fields. Here are some examples of how it is applied:\n",
        "\n",
        "Medical Diagnosis:\n",
        "Application: To update the probability of a disease given a positive or negative test result.\n",
        "\n",
        "Spam Filtering:\n",
        "Application: To determine the probability that an email is spam based on the presence of certain keywords or patterns.\n",
        "\n",
        "\"\"\""
      ],
      "metadata": {
        "id": "Ew9qW4NPJ-6k"
      },
      "execution_count": null,
      "outputs": []
    },
    {
      "cell_type": "markdown",
      "source": [
        "Q4. What is the relationship between Bayes' theorem and conditional probability?"
      ],
      "metadata": {
        "id": "3d4nH0NLKS57"
      }
    },
    {
      "cell_type": "code",
      "source": [
        "\"\"\"\n",
        "Bayes' theorem is fundamentally rooted in the concept of conditional probability.\n",
        "Conditional probability measures the probability of an event occurring given that another event has already occurred. Bayes' theorem provides a mathematical way to reverse conditional probabilities.\n",
        "\n",
        "\"\"\""
      ],
      "metadata": {
        "id": "xK3xcjLaKUjr"
      },
      "execution_count": null,
      "outputs": []
    },
    {
      "cell_type": "markdown",
      "source": [
        "Q5. How do you choose which type of Naive Bayes classifier to use for any given problem?"
      ],
      "metadata": {
        "id": "4TnHZ_3wKe8z"
      }
    },
    {
      "cell_type": "code",
      "source": [
        "\"\"\"\n",
        "Choosing the appropriate type of Naive Bayes classifier for a given problem depends on the nature of the data and the specific characteristics of the features. Here are the main types of Naive Bayes classifiers and guidelines for when to use each:\n",
        "\n",
        "-> Gaussian Naive Bayes:\n",
        "Use Case: When the features are continuous and are assumed to follow a normal (Gaussian) distribution.\n",
        "\n",
        "-> Multinomial Naive Bayes:\n",
        "Use Case: When the features are discrete and represent counts or frequencies of events.\n",
        "\n",
        "-> Bernoulli Naive Bayes:\n",
        "Use Case: When the features are binary or Boolean.\n",
        "\n",
        "\"\"\""
      ],
      "metadata": {
        "id": "57cf_ulMKgy7"
      },
      "execution_count": null,
      "outputs": []
    },
    {
      "cell_type": "markdown",
      "source": [
        "Q6. Assignment:\n",
        "You have a dataset with two features, X1 and X2, and two possible classes, A and B. You want to use Naive\n",
        "Bayes to classify a new instance with features X1 = 3 and X2 = 4. The following table shows the frequency of\n",
        "each feature value for each class:\n",
        "Class X1=1 X1=2 X1=3 X2=1 X2=2 X2=3 X2=4\n",
        "A 3 3 4 4 3 3 3\n",
        "B 2 2 1 2 2 2 3\n",
        "Assuming equal prior probabilities for each class, which class would Naive Bayes predict the new instance\n",
        "to belong to?"
      ],
      "metadata": {
        "id": "hKTFh6IJK04T"
      }
    },
    {
      "cell_type": "code",
      "source": [
        "# Frequencies from the given table\n",
        "frequencies = {\n",
        "    'A': {'X1': {1: 3, 2: 3, 3: 4}, 'X2': {1: 4, 2: 3, 3: 3, 4: 3}},\n",
        "    'B': {'X1': {1: 2, 2: 2, 3: 1}, 'X2': {1: 2, 2: 2, 3: 2, 4: 3}}\n",
        "}\n",
        "\n",
        "# Prior probabilities\n",
        "prior_A = 0.5\n",
        "prior_B = 0.5\n",
        "\n",
        "# Likelihoods\n",
        "def calculate_likelihood(frequencies, class_label, feature, value):\n",
        "    total_count = sum(frequencies[class_label][feature].values())\n",
        "    return frequencies[class_label][feature].get(value, 0) / total_count\n",
        "\n",
        "# Calculate likelihoods\n",
        "likelihood_X1_3_given_A = calculate_likelihood(frequencies, 'A', 'X1', 3)\n",
        "likelihood_X2_4_given_A = calculate_likelihood(frequencies, 'A', 'X2', 4)\n",
        "\n",
        "likelihood_X1_3_given_B = calculate_likelihood(frequencies, 'B', 'X1', 3)\n",
        "likelihood_X2_4_given_B = calculate_likelihood(frequencies, 'B', 'X2', 4)\n",
        "\n",
        "# Calculate posterior numerators\n",
        "posterior_numerator_A = likelihood_X1_3_given_A * likelihood_X2_4_given_A * prior_A\n",
        "posterior_numerator_B = likelihood_X1_3_given_B * likelihood_X2_4_given_B * prior_B\n",
        "\n",
        "# Output the posterior probabilities (unnormalized)\n",
        "print(f\"Posterior numerator for class A: {posterior_numerator_A}\")\n",
        "print(f\"Posterior numerator for class B: {posterior_numerator_B}\")\n",
        "\n",
        "# Determine the predicted class\n",
        "predicted_class = 'A' if posterior_numerator_A > posterior_numerator_B else 'B'\n",
        "print(f\"The predicted class is: {predicted_class}\")\n"
      ],
      "metadata": {
        "colab": {
          "base_uri": "https://localhost:8080/"
        },
        "id": "467RiFUUK5MO",
        "outputId": "4de17787-573f-4d88-f1cd-45cca4ebf45b"
      },
      "execution_count": 1,
      "outputs": [
        {
          "output_type": "stream",
          "name": "stdout",
          "text": [
            "Posterior numerator for class A: 0.046153846153846156\n",
            "Posterior numerator for class B: 0.03333333333333333\n",
            "The predicted class is: A\n"
          ]
        }
      ]
    }
  ]
}